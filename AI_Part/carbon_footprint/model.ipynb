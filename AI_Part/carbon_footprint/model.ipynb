{
 "cells": [
  {
   "cell_type": "code",
   "execution_count": null,
   "metadata": {},
   "outputs": [],
   "source": [
    "import pandas as pd\n",
    "import numpy as np\n",
    "from sklearn.model_selection import train_test_split\n",
    "from sklearn.preprocessing import OneHotEncoder, StandardScaler\n",
    "from sklearn.compose import ColumnTransformer\n",
    "from sklearn.pipeline import Pipeline\n",
    "from sklearn.linear_model import LinearRegression\n",
    "from sklearn.model_selection import cross_val_score\n",
    "from sklearn.metrics import mean_squared_error, r2_score\n",
    "import pickle"
   ]
  },
  {
   "cell_type": "code",
   "execution_count": null,
   "metadata": {},
   "outputs": [
    {
     "name": "stdout",
     "output_type": "stream",
     "text": [
      "Index(['Energy_Source', 'Transport', 'Frequency of Transport',\n",
      "       'Waste Production', 'How Long Machine Works Daily',\n",
      "       'Machine repairing(in Months)', 'Energy efficiency', 'Recycling Waste',\n",
      "       'CarbonEmission'],\n",
      "      dtype='object')\n"
     ]
    }
   ],
   "source": [
    "data= pd.read_csv('Carbon_Footprint_Emission.csv')\n",
    "\n",
    "data.columns = [col.strip() for col in data.columns]\n",
    "print(data.columns)"
   ]
  },
  {
   "cell_type": "code",
   "execution_count": 18,
   "metadata": {},
   "outputs": [
    {
     "data": {
      "text/plain": [
       "['Energy_Source',\n",
       " 'Transport',\n",
       " 'Frequency of Transport',\n",
       " 'Waste Production',\n",
       " 'How Long Machine Works Daily',\n",
       " 'Machine repairing(in Months)',\n",
       " 'Energy efficiency',\n",
       " 'Recycling Waste',\n",
       " 'CarbonEmission']"
      ]
     },
     "execution_count": 18,
     "metadata": {},
     "output_type": "execute_result"
    }
   ],
   "source": [
    "data.columns.to_list()"
   ]
  },
  {
   "cell_type": "code",
   "execution_count": null,
   "metadata": {},
   "outputs": [
    {
     "name": "stdout",
     "output_type": "stream",
     "text": [
      "Categorical columns: ['Energy_Source', 'Transport', 'Frequency of Transport', 'Waste Production', 'Energy efficiency', 'Recycling Waste']\n",
      "Numerical columns: ['How Long Machine Works Daily', 'Machine repairing(in Months)']\n"
     ]
    }
   ],
   "source": [
    "target = 'CarbonEmission'\n",
    "features = [col for col in data.columns if col != target]\n",
    "\n",
    "categorical_cols = data.select_dtypes(include=['object']).columns.tolist()\n",
    "numerical_cols = data.select_dtypes(include=[np.number]).columns.tolist()\n",
    "\n",
    "if target in numerical_cols:\n",
    "    numerical_cols.remove(target)\n",
    "\n",
    "print('Categorical columns:', categorical_cols)\n",
    "print('Numerical columns:', numerical_cols)\n"
   ]
  },
  {
   "cell_type": "code",
   "execution_count": null,
   "metadata": {},
   "outputs": [
    {
     "name": "stdout",
     "output_type": "stream",
     "text": [
      "Model: Linear Regression\n",
      "MSE: 598163.065\n",
      "R2: 0.42468185812503045\n",
      "Best performing model: Linear Regression\n",
      "done\n"
     ]
    }
   ],
   "source": [
    "preprocessor = ColumnTransformer(\n",
    "    transformers=[\n",
    "        ('num', StandardScaler(), numerical_cols),\n",
    "        ('cat', OneHotEncoder(handle_unknown='ignore'), categorical_cols)\n",
    "    ])\n",
    "lr_model = LinearRegression()\n",
    "\n",
    "X = data[features]\n",
    "y = data[target]\n",
    "X_train, X_test, y_train, y_test = train_test_split(X, y, test_size=0.2, random_state=42)\n",
    "\n",
    "pipeline = Pipeline(steps=[\n",
    "    ('preprocessor', preprocessor),\n",
    "    ('regressor', lr_model)\n",
    "])\n",
    "\n",
    "pipeline.fit(X_train, y_train)\n",
    "\n",
    "y_pred = pipeline.predict(X_test)\n",
    "mse = mean_squared_error(y_test, y_pred)\n",
    "r2 = r2_score(y_test, y_pred)\n",
    "\n",
    "# print('Model: Linear Regression')\n",
    "# print('MSE:', mse)\n",
    "# print('R2:', r2)\n",
    "\n",
    "print('Best performing model: Linear Regression')\n",
    "print('done')"
   ]
  },
  {
   "cell_type": "code",
   "execution_count": null,
   "metadata": {},
   "outputs": [],
   "source": [
    "# pickle.dump(pipeline,open('pipe.pkl','wb'))\n",
    "# pipe = pickle.load(open('pipe.pkl','rb'))"
   ]
  }
 ],
 "metadata": {
  "kernelspec": {
   "display_name": "Python 3",
   "language": "python",
   "name": "python3"
  },
  "language_info": {
   "codemirror_mode": {
    "name": "ipython",
    "version": 3
   },
   "file_extension": ".py",
   "mimetype": "text/x-python",
   "name": "python",
   "nbconvert_exporter": "python",
   "pygments_lexer": "ipython3",
   "version": "3.9.13"
  }
 },
 "nbformat": 4,
 "nbformat_minor": 2
}
